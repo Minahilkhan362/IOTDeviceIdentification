{
 "cells": [
  {
   "cell_type": "code",
   "execution_count": 1,
   "id": "3d10e8e1",
   "metadata": {},
   "outputs": [],
   "source": [
    "import pandas as pd"
   ]
  },
  {
   "cell_type": "code",
   "execution_count": 2,
   "id": "e25c6ff3",
   "metadata": {},
   "outputs": [],
   "source": [
    "feature= ['pck_size', 'Ether_type', 'LLC_ctrl', 'EAPOL_version', 'EAPOL_type', 'IP_ihl', 'IP_tos', 'IP_len', 'IP_flags', 'IP_DF', 'IP_ttl', 'IP_options', 'ICMP_code', 'TCP_dataofs', 'TCP_FIN', 'TCP_ACK', 'TCP_window', 'UDP_len', 'DHCP_options', 'BOOTP_hlen', 'BOOTP_flags', 'BOOTP_sname', 'BOOTP_file', 'BOOTP_options', 'DNS_qr', 'DNS_rd', 'DNS_qdcount', 'dport_class', 'payload_bytes', 'entropy', 'Label']"
   ]
  },
  {
   "cell_type": "code",
   "execution_count": 3,
   "id": "cba05430",
   "metadata": {},
   "outputs": [],
   "source": [
    "df_alto = pd.read_csv(\"Aalto_train_IoTDevID.csv\",usecols=feature)\n",
    "df_unsw = pd.read_csv(\"UNSW_train_IoTDevID.csv\",usecols=feature)"
   ]
  },
  {
   "cell_type": "code",
   "execution_count": 4,
   "id": "1d5cd34c",
   "metadata": {},
   "outputs": [
    {
     "data": {
      "text/plain": [
       "(352354, 31)"
      ]
     },
     "execution_count": 4,
     "metadata": {},
     "output_type": "execute_result"
    }
   ],
   "source": [
    "import numpy as np\n",
    "\n",
    "x_train = np.r_[df_alto.values, df_unsw.values]\n",
    "\n",
    "np.random.shuffle(x_train)\n",
    "\n",
    "np.shape(x_train)"
   ]
  },
  {
   "cell_type": "code",
   "execution_count": 5,
   "id": "d7fc9666",
   "metadata": {},
   "outputs": [
    {
     "name": "stdout",
     "output_type": "stream",
     "text": [
      "(352354, 30)\n"
     ]
    },
    {
     "data": {
      "text/plain": [
       "(352354,)"
      ]
     },
     "execution_count": 5,
     "metadata": {},
     "output_type": "execute_result"
    }
   ],
   "source": [
    "y_train = x_train[:,-1]\n",
    "x_train = x_train[:,:-1]\n",
    "\n",
    "print(np.shape(x_train))\n",
    "np.shape(y_train)"
   ]
  },
  {
   "cell_type": "code",
   "execution_count": 6,
   "id": "7b04b1f0",
   "metadata": {},
   "outputs": [
    {
     "name": "stdout",
     "output_type": "stream",
     "text": [
      "['Amazon Echo', 'Aria', 'August Doorbell Cam', 'Awair air quality monitor', 'Belkin Camera', 'Belkin Wemo switch', 'Belkin wemo motion sensor', 'Blipcare Blood Pressure meter', 'Canary Camera', 'D-LinkCam', 'D-LinkDayCam', 'D-LinkDoorSensor', 'D-LinkHomeHub', 'D-LinkSensor', 'D-LinkSiren', 'D-LinkSwitch', 'D-LinkWaterSensor', 'Dropcam', 'EdimaxCam', 'EdimaxPlug1101W', 'EdimaxPlug2101W', 'EdnetCam', 'EdnetGateway', 'Google Chromecast', 'HP Printer', 'Hello Barbie', 'HomeMaticPlug', 'HueBridge', 'HueSwitch', 'IKettle2', 'Insteon Camera', 'Light Bulbs LiFX Smart Bulb', 'Lightify', 'MAXGateway', 'NEST Protect smoke alarm', 'Nest Dropcam', 'Netatmo Welcome', 'Netatmo weather station', 'Non-IoT', 'PIX-STAR Photo-frame', 'Phillip Hue Lightbulb', 'Ring Door Bell', 'Samsung SmartCam', 'Smart Things', 'SmarterCoffee', 'TP-Link Day Night Cloud camera', 'TP-Link Smart plug', 'TP-LinkPlugHS100', 'TP-LinkPlugHS110', 'TPLink Router Bridge LAN (Gateway)', 'Triby Speaker', 'WeMoInsightSwitch', 'WeMoLink', 'WeMoSwitch', 'Withings', 'Withings Aura smart sleep sensor', 'Withings Smart Baby Monitor', 'Withings Smart scale', 'iHome', 'unknown maybe cam']\n"
     ]
    }
   ],
   "source": [
    "device_name = sorted(set(y_train))\n",
    "device_name = list(map(str, device_name))\n",
    "\n",
    "print(device_name)"
   ]
  },
  {
   "cell_type": "code",
   "execution_count": 7,
   "id": "77f7a76e",
   "metadata": {},
   "outputs": [],
   "source": [
    "device_name_mapper = {}\n",
    "index = 0\n",
    "for i in device_name:\n",
    "  device_name_mapper[i] = index\n",
    "  index += 1"
   ]
  },
  {
   "cell_type": "code",
   "execution_count": 8,
   "id": "0ca58cd7",
   "metadata": {},
   "outputs": [],
   "source": [
    "y_train = list(map(lambda x: device_name_mapper[x],y_train))\n",
    "y_train = np.array(y_train)"
   ]
  },
  {
   "cell_type": "code",
   "execution_count": 9,
   "id": "3b59fd69",
   "metadata": {},
   "outputs": [],
   "source": [
    "from sklearn.preprocessing import normalize\n",
    "\n",
    "x_train = normalize(x_train)"
   ]
  },
  {
   "cell_type": "code",
   "execution_count": 10,
   "id": "83f94e07",
   "metadata": {},
   "outputs": [],
   "source": [
    "from sklearn.ensemble import RandomForestClassifier\n",
    "\n",
    "dtree = RandomForestClassifier(criterion='entropy')"
   ]
  },
  {
   "cell_type": "code",
   "execution_count": 11,
   "id": "587052e2",
   "metadata": {},
   "outputs": [
    {
     "data": {
      "text/html": [
       "<style>#sk-container-id-1 {color: black;background-color: white;}#sk-container-id-1 pre{padding: 0;}#sk-container-id-1 div.sk-toggleable {background-color: white;}#sk-container-id-1 label.sk-toggleable__label {cursor: pointer;display: block;width: 100%;margin-bottom: 0;padding: 0.3em;box-sizing: border-box;text-align: center;}#sk-container-id-1 label.sk-toggleable__label-arrow:before {content: \"▸\";float: left;margin-right: 0.25em;color: #696969;}#sk-container-id-1 label.sk-toggleable__label-arrow:hover:before {color: black;}#sk-container-id-1 div.sk-estimator:hover label.sk-toggleable__label-arrow:before {color: black;}#sk-container-id-1 div.sk-toggleable__content {max-height: 0;max-width: 0;overflow: hidden;text-align: left;background-color: #f0f8ff;}#sk-container-id-1 div.sk-toggleable__content pre {margin: 0.2em;color: black;border-radius: 0.25em;background-color: #f0f8ff;}#sk-container-id-1 input.sk-toggleable__control:checked~div.sk-toggleable__content {max-height: 200px;max-width: 100%;overflow: auto;}#sk-container-id-1 input.sk-toggleable__control:checked~label.sk-toggleable__label-arrow:before {content: \"▾\";}#sk-container-id-1 div.sk-estimator input.sk-toggleable__control:checked~label.sk-toggleable__label {background-color: #d4ebff;}#sk-container-id-1 div.sk-label input.sk-toggleable__control:checked~label.sk-toggleable__label {background-color: #d4ebff;}#sk-container-id-1 input.sk-hidden--visually {border: 0;clip: rect(1px 1px 1px 1px);clip: rect(1px, 1px, 1px, 1px);height: 1px;margin: -1px;overflow: hidden;padding: 0;position: absolute;width: 1px;}#sk-container-id-1 div.sk-estimator {font-family: monospace;background-color: #f0f8ff;border: 1px dotted black;border-radius: 0.25em;box-sizing: border-box;margin-bottom: 0.5em;}#sk-container-id-1 div.sk-estimator:hover {background-color: #d4ebff;}#sk-container-id-1 div.sk-parallel-item::after {content: \"\";width: 100%;border-bottom: 1px solid gray;flex-grow: 1;}#sk-container-id-1 div.sk-label:hover label.sk-toggleable__label {background-color: #d4ebff;}#sk-container-id-1 div.sk-serial::before {content: \"\";position: absolute;border-left: 1px solid gray;box-sizing: border-box;top: 0;bottom: 0;left: 50%;z-index: 0;}#sk-container-id-1 div.sk-serial {display: flex;flex-direction: column;align-items: center;background-color: white;padding-right: 0.2em;padding-left: 0.2em;position: relative;}#sk-container-id-1 div.sk-item {position: relative;z-index: 1;}#sk-container-id-1 div.sk-parallel {display: flex;align-items: stretch;justify-content: center;background-color: white;position: relative;}#sk-container-id-1 div.sk-item::before, #sk-container-id-1 div.sk-parallel-item::before {content: \"\";position: absolute;border-left: 1px solid gray;box-sizing: border-box;top: 0;bottom: 0;left: 50%;z-index: -1;}#sk-container-id-1 div.sk-parallel-item {display: flex;flex-direction: column;z-index: 1;position: relative;background-color: white;}#sk-container-id-1 div.sk-parallel-item:first-child::after {align-self: flex-end;width: 50%;}#sk-container-id-1 div.sk-parallel-item:last-child::after {align-self: flex-start;width: 50%;}#sk-container-id-1 div.sk-parallel-item:only-child::after {width: 0;}#sk-container-id-1 div.sk-dashed-wrapped {border: 1px dashed gray;margin: 0 0.4em 0.5em 0.4em;box-sizing: border-box;padding-bottom: 0.4em;background-color: white;}#sk-container-id-1 div.sk-label label {font-family: monospace;font-weight: bold;display: inline-block;line-height: 1.2em;}#sk-container-id-1 div.sk-label-container {text-align: center;}#sk-container-id-1 div.sk-container {/* jupyter's `normalize.less` sets `[hidden] { display: none; }` but bootstrap.min.css set `[hidden] { display: none !important; }` so we also need the `!important` here to be able to override the default hidden behavior on the sphinx rendered scikit-learn.org. See: https://github.com/scikit-learn/scikit-learn/issues/21755 */display: inline-block !important;position: relative;}#sk-container-id-1 div.sk-text-repr-fallback {display: none;}</style><div id=\"sk-container-id-1\" class=\"sk-top-container\"><div class=\"sk-text-repr-fallback\"><pre>RandomForestClassifier(criterion=&#x27;entropy&#x27;)</pre><b>In a Jupyter environment, please rerun this cell to show the HTML representation or trust the notebook. <br />On GitHub, the HTML representation is unable to render, please try loading this page with nbviewer.org.</b></div><div class=\"sk-container\" hidden><div class=\"sk-item\"><div class=\"sk-estimator sk-toggleable\"><input class=\"sk-toggleable__control sk-hidden--visually\" id=\"sk-estimator-id-1\" type=\"checkbox\" checked><label for=\"sk-estimator-id-1\" class=\"sk-toggleable__label sk-toggleable__label-arrow\">RandomForestClassifier</label><div class=\"sk-toggleable__content\"><pre>RandomForestClassifier(criterion=&#x27;entropy&#x27;)</pre></div></div></div></div></div>"
      ],
      "text/plain": [
       "RandomForestClassifier(criterion='entropy')"
      ]
     },
     "execution_count": 11,
     "metadata": {},
     "output_type": "execute_result"
    }
   ],
   "source": [
    "dtree.fit(x_train,y_train)"
   ]
  },
  {
   "cell_type": "code",
   "execution_count": 12,
   "id": "470cd818",
   "metadata": {},
   "outputs": [
    {
     "data": {
      "text/plain": [
       "['Model.joblib']"
      ]
     },
     "execution_count": 12,
     "metadata": {},
     "output_type": "execute_result"
    }
   ],
   "source": [
    "from joblib import dump, load\n",
    "\n",
    "dump(dtree, 'Model.joblib')"
   ]
  },
  {
   "cell_type": "code",
   "execution_count": 13,
   "id": "d0198ba7",
   "metadata": {},
   "outputs": [],
   "source": [
    "df_alto_test = pd.read_csv(\"Aalto_test_IoTDevID.csv\",usecols=feature)\n",
    "df_unsw_test = pd.read_csv(\"UNSW_test_IoTDevID.csv\",usecols=feature)"
   ]
  },
  {
   "cell_type": "code",
   "execution_count": 14,
   "id": "de478404",
   "metadata": {},
   "outputs": [
    {
     "data": {
      "text/plain": [
       "(90587, 31)"
      ]
     },
     "execution_count": 14,
     "metadata": {},
     "output_type": "execute_result"
    }
   ],
   "source": [
    "x_test = np.r_[df_alto_test.values, df_unsw_test.values]\n",
    "\n",
    "np.random.shuffle(x_test)\n",
    "\n",
    "np.shape(x_test)"
   ]
  },
  {
   "cell_type": "code",
   "execution_count": 15,
   "id": "262a904f",
   "metadata": {},
   "outputs": [
    {
     "name": "stdout",
     "output_type": "stream",
     "text": [
      "(90587, 30)\n"
     ]
    },
    {
     "data": {
      "text/plain": [
       "(90587,)"
      ]
     },
     "execution_count": 15,
     "metadata": {},
     "output_type": "execute_result"
    }
   ],
   "source": [
    "y_test = x_test[:,-1]\n",
    "x_test = x_test[:,:-1]\n",
    "\n",
    "print(np.shape(x_test))\n",
    "np.shape(y_test)"
   ]
  },
  {
   "cell_type": "code",
   "execution_count": 16,
   "id": "a80673ac",
   "metadata": {},
   "outputs": [],
   "source": [
    "y_test = list(map(lambda x: device_name_mapper[x],y_test))\n",
    "y_test = np.array(y_test)"
   ]
  },
  {
   "cell_type": "code",
   "execution_count": 17,
   "id": "68fb37fa",
   "metadata": {},
   "outputs": [],
   "source": [
    "x_test = normalize(x_test)"
   ]
  },
  {
   "cell_type": "code",
   "execution_count": 18,
   "id": "b4f875b8",
   "metadata": {},
   "outputs": [],
   "source": [
    "model = load('Model.joblib')"
   ]
  },
  {
   "cell_type": "code",
   "execution_count": 19,
   "id": "df1d8403",
   "metadata": {},
   "outputs": [
    {
     "data": {
      "text/plain": [
       "0.804927859405875"
      ]
     },
     "execution_count": 19,
     "metadata": {},
     "output_type": "execute_result"
    }
   ],
   "source": [
    "model.score(x_test, y_test)"
   ]
  },
  {
   "cell_type": "code",
   "execution_count": null,
   "id": "6db1f77d",
   "metadata": {},
   "outputs": [],
   "source": []
  }
 ],
 "metadata": {
  "kernelspec": {
   "display_name": "Python 3 (ipykernel)",
   "language": "python",
   "name": "python3"
  },
  "language_info": {
   "codemirror_mode": {
    "name": "ipython",
    "version": 3
   },
   "file_extension": ".py",
   "mimetype": "text/x-python",
   "name": "python",
   "nbconvert_exporter": "python",
   "pygments_lexer": "ipython3",
   "version": "3.10.9"
  }
 },
 "nbformat": 4,
 "nbformat_minor": 5
}
